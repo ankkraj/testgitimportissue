{
 "cells": [
  {
   "cell_type": "code",
   "execution_count": 0,
   "metadata": {
    "application/vnd.databricks.v1+cell": {
     "cellMetadata": {},
     "inputWidgets": {},
     "nuid": "77179df5-4ffa-4ad7-bbe3-dcb0c9e39d9a",
     "showTitle": false,
     "tableResultSettingsMap": {},
     "title": ""
    }
   },
   "outputs": [],
   "source": [
    "import sys\n",
    "\n",
    "print(\"****ORIGINAL SYSTEM PATH*******\")\n",
    "print(sys.path)\n",
    "print(\"*******************************\")\n",
    "repo_str = \"/Workspace/Repos/\"\n",
    "deepverse_str = \"deepverse/src\"\n",
    "new_dir=\"/Workspace/Repos/ankit.raj@databricks.com/testgitimportissue\"\n",
    "sys.path.insert(0, new_dir)\n",
    "print(\"****UPDATED SYSTEM PATH*******\")\n",
    "print(sys.path)"
   ]
  },
  {
   "cell_type": "code",
   "execution_count": 0,
   "metadata": {
    "application/vnd.databricks.v1+cell": {
     "cellMetadata": {},
     "inputWidgets": {},
     "nuid": "cc7ce13a-aa8b-4370-aaa9-3608a7074bf0",
     "showTitle": false,
     "tableResultSettingsMap": {},
     "title": ""
    }
   },
   "outputs": [],
   "source": [
    "import my_test_code\n",
    "\n",
    "print(my_test_code.__file__)"
   ]
  }
 ],
 "metadata": {
  "application/vnd.databricks.v1+notebook": {
   "computePreferences": null,
   "dashboards": [],
   "environmentMetadata": {
    "base_environment": "",
    "environment_version": "2"
   },
   "inputWidgetPreferences": null,
   "language": "python",
   "notebookMetadata": {
    "pythonIndentUnit": 4
   },
   "notebookName": "testwheelloc",
   "widgets": {}
  },
  "language_info": {
   "name": "python"
  }
 },
 "nbformat": 4,
 "nbformat_minor": 0
}
